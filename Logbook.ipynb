{
 "cells": [
  {
   "cell_type": "markdown",
   "metadata": {},
   "source": [
    "# Cookie Chronicler Logbook"
   ]
  },
  {
   "cell_type": "markdown",
   "metadata": {},
   "source": [
    "#### Computational Creativity - Assignment 1"
   ]
  },
  {
   "cell_type": "markdown",
   "metadata": {},
   "source": [
    "##### Titus Oosting (s2683466)"
   ]
  },
  {
   "cell_type": "markdown",
   "metadata": {},
   "source": [
    "### Introduction\n",
    "\n",
    "In this logbook I describe the process of building a cookie-recipe generator that uses the theories of Genetic Algorithms to produce novel recipes - and then evaluate its creativity. \n",
    "\n",
    "The product required:\n",
    "\n",
    "* An Inspiring Set (Cookie Knowledgebase)\n",
    "* A Fitness Metric\n",
    "* Parent Selection\n",
    "* Recipe Crossover \n",
    "* Recipe Mutation\n",
    "* Offspring Integration\n",
    "* Recipe Template Generator\n",
    "\n",
    "The results of this project are best summarised in the Cookie Chronicle Cookbook. \n",
    "\n",
    "\n",
    "The most interesting problem I had to solve in building the generator was how to assess the \"fitness\" of a cookie recipe (and so the format of the initial recipe data-set). I go into more detail into how I approached this problem below but (sneak peek ahead!) I thought about the problem both in terms of the inherent structure of the recipe and in terms of how the recipe might be preferable in different conditions (`environment_condition` variable in the `CookieGenerator` Class).\n",
    "\n",
    "\n",
    "It’s a cookie-eat-cookie world out there. The longevity of a family recipe depends on both the inherent structure (relative proportion of ingredients) and the environment in which they find themselves. In a family of health nuts, the recipes with higher proportion of 'chunks', and lower sugar content, might be more likely to survive. In a family of 'toothless' young kids perhaps the recipes with less 'chunky' bits will survive. \n"
   ]
  },
  {
   "cell_type": "markdown",
   "metadata": {},
   "source": [
    "### What’s in a Cookie: Creating a Knowledgebase\n",
    "\n",
    "This application requires an existing 'knowledgebase': a data-set of recipes that serves not only as an initial population, but is also used to infer \"Fitness\" ideals\n",
    "(`purpose_average_proportions`) through its metadata.\n",
    "\n",
    "For this project I took 35 recipes from this [top 107](https://www.epicurious.com/recipes-menus/best-cookie-recipes-chocolate-chip-raisin-peanut-butter-gallery) and manually recored the data in google sheets, saved as csv for my application. \n",
    "\n",
    "What kind of data do you need in this knowledgebase? This question is actually dictated by the rest of the application's development. The information required for fitness and for presenting the recipes in the Cookbook: \n",
    "\n",
    "* Ingredient Name\n",
    "* Amount\n",
    "* Purpose for determining fitness values\n",
    "* Specific actions to alter the composition, purpose or flavour of individual ingredients\n",
    "* Specific orders and combinations in which to combine ingredients\n",
    "\n",
    "\n",
    "For this specific application, the recipe'steps' were eventually collected for 'aesthetic' e.g for recipe presentation, rather than mechanical purposes, used only in the 'outputting' functions. \n",
    "\n",
    "To assess the fitness of the cookie recipe each ingredient for each inspiring recipe were manually categorised into one of several categories. With a large inspiring set perhaps some unsupervised methods could be used to infer the relevant purposes, here I used mostly my baking experience (& Google)!\n",
    "\n",
    "These include:\n",
    "\n",
    "* Structure\n",
    "* Fat\n",
    "* Flavor\n",
    "* Sugar\n",
    "* Binding\n",
    "* Chunks\n",
    "* Rising\n",
    "\n",
    "This data was collected in two separate Google Sheets -> csvs -> Pandas DataFrames, 'Recipes' and 'Ingredients'. The first few lines of each dataset is shown below. \n"
   ]
  },
  {
   "cell_type": "code",
   "execution_count": 17,
   "metadata": {},
   "outputs": [
    {
     "data": {
      "text/html": [
       "<div>\n",
       "<style scoped>\n",
       "    .dataframe tbody tr th:only-of-type {\n",
       "        vertical-align: middle;\n",
       "    }\n",
       "\n",
       "    .dataframe tbody tr th {\n",
       "        vertical-align: top;\n",
       "    }\n",
       "\n",
       "    .dataframe thead th {\n",
       "        text-align: right;\n",
       "    }\n",
       "</style>\n",
       "<table border=\"1\" class=\"dataframe\">\n",
       "  <thead>\n",
       "    <tr style=\"text-align: right;\">\n",
       "      <th></th>\n",
       "      <th>Name</th>\n",
       "      <th>marker</th>\n",
       "      <th>ingredient</th>\n",
       "      <th>subtype</th>\n",
       "      <th>amount</th>\n",
       "      <th>units</th>\n",
       "      <th>Servetype-for-output</th>\n",
       "    </tr>\n",
       "  </thead>\n",
       "  <tbody>\n",
       "    <tr>\n",
       "      <td>0</td>\n",
       "      <td>Frosted Malt-Chocolate Cookies</td>\n",
       "      <td>bake</td>\n",
       "      <td>chocolate</td>\n",
       "      <td>milk</td>\n",
       "      <td>6.00</td>\n",
       "      <td>oz</td>\n",
       "      <td>cookie cutter</td>\n",
       "    </tr>\n",
       "    <tr>\n",
       "      <td>1</td>\n",
       "      <td>Frosted Malt-Chocolate Cookies</td>\n",
       "      <td>NaN</td>\n",
       "      <td>sugar</td>\n",
       "      <td>darkbrown</td>\n",
       "      <td>0.75</td>\n",
       "      <td>cup</td>\n",
       "      <td>NaN</td>\n",
       "    </tr>\n",
       "    <tr>\n",
       "      <td>2</td>\n",
       "      <td>Frosted Malt-Chocolate Cookies</td>\n",
       "      <td>NaN</td>\n",
       "      <td>cocoa powder</td>\n",
       "      <td>NaN</td>\n",
       "      <td>0.50</td>\n",
       "      <td>cup</td>\n",
       "      <td>NaN</td>\n",
       "    </tr>\n",
       "    <tr>\n",
       "      <td>3</td>\n",
       "      <td>Frosted Malt-Chocolate Cookies</td>\n",
       "      <td>NaN</td>\n",
       "      <td>cream</td>\n",
       "      <td>heavy</td>\n",
       "      <td>0.66</td>\n",
       "      <td>cup</td>\n",
       "      <td>NaN</td>\n",
       "    </tr>\n",
       "    <tr>\n",
       "      <td>4</td>\n",
       "      <td>Frosted Malt-Chocolate Cookies</td>\n",
       "      <td>NaN</td>\n",
       "      <td>milk powder</td>\n",
       "      <td>malted</td>\n",
       "      <td>2.00</td>\n",
       "      <td>tbsp</td>\n",
       "      <td>NaN</td>\n",
       "    </tr>\n",
       "  </tbody>\n",
       "</table>\n",
       "</div>"
      ],
      "text/plain": [
       "                             Name marker    ingredient    subtype  amount  \\\n",
       "0  Frosted Malt-Chocolate Cookies   bake     chocolate       milk    6.00   \n",
       "1  Frosted Malt-Chocolate Cookies    NaN         sugar  darkbrown    0.75   \n",
       "2  Frosted Malt-Chocolate Cookies    NaN  cocoa powder        NaN    0.50   \n",
       "3  Frosted Malt-Chocolate Cookies    NaN         cream      heavy    0.66   \n",
       "4  Frosted Malt-Chocolate Cookies    NaN   milk powder     malted    2.00   \n",
       "\n",
       "  units Servetype-for-output  \n",
       "0    oz        cookie cutter  \n",
       "1   cup                  NaN  \n",
       "2   cup                  NaN  \n",
       "3   cup                  NaN  \n",
       "4  tbsp                  NaN  "
      ]
     },
     "execution_count": 17,
     "metadata": {},
     "output_type": "execute_result"
    }
   ],
   "source": [
    "cookie = CookieGenerator()\n",
    "recipes = cookie.import_data(cookie.file_path_recipes)\n",
    "ingredients = cookie.import_data(cookie.file_path_ingredients)\n",
    "recipes.head()"
   ]
  },
  {
   "cell_type": "code",
   "execution_count": 18,
   "metadata": {},
   "outputs": [
    {
     "data": {
      "text/html": [
       "<div>\n",
       "<style scoped>\n",
       "    .dataframe tbody tr th:only-of-type {\n",
       "        vertical-align: middle;\n",
       "    }\n",
       "\n",
       "    .dataframe tbody tr th {\n",
       "        vertical-align: top;\n",
       "    }\n",
       "\n",
       "    .dataframe thead th {\n",
       "        text-align: right;\n",
       "    }\n",
       "</style>\n",
       "<table border=\"1\" class=\"dataframe\">\n",
       "  <thead>\n",
       "    <tr style=\"text-align: right;\">\n",
       "      <th></th>\n",
       "      <th>Ingredient</th>\n",
       "      <th>Purpose</th>\n",
       "      <th>Consistency</th>\n",
       "      <th>Operators-for-output</th>\n",
       "    </tr>\n",
       "  </thead>\n",
       "  <tbody>\n",
       "    <tr>\n",
       "      <td>0</td>\n",
       "      <td>flour</td>\n",
       "      <td>Structure</td>\n",
       "      <td>dry</td>\n",
       "      <td>sift</td>\n",
       "    </tr>\n",
       "    <tr>\n",
       "      <td>1</td>\n",
       "      <td>butter</td>\n",
       "      <td>Fat</td>\n",
       "      <td>wet</td>\n",
       "      <td>melt</td>\n",
       "    </tr>\n",
       "    <tr>\n",
       "      <td>2</td>\n",
       "      <td>oil</td>\n",
       "      <td>Fat</td>\n",
       "      <td>wet</td>\n",
       "      <td>heat</td>\n",
       "    </tr>\n",
       "    <tr>\n",
       "      <td>3</td>\n",
       "      <td>salt</td>\n",
       "      <td>Flavor</td>\n",
       "      <td>dry</td>\n",
       "      <td>NaN</td>\n",
       "    </tr>\n",
       "    <tr>\n",
       "      <td>4</td>\n",
       "      <td>oats</td>\n",
       "      <td>Structure</td>\n",
       "      <td>dry</td>\n",
       "      <td>NaN</td>\n",
       "    </tr>\n",
       "  </tbody>\n",
       "</table>\n",
       "</div>"
      ],
      "text/plain": [
       "  Ingredient    Purpose Consistency Operators-for-output\n",
       "0      flour  Structure         dry                 sift\n",
       "1     butter        Fat         wet                 melt\n",
       "2        oil        Fat         wet                 heat\n",
       "3       salt     Flavor         dry                  NaN\n",
       "4       oats  Structure         dry                  NaN"
      ]
     },
     "execution_count": 18,
     "metadata": {},
     "output_type": "execute_result"
    }
   ],
   "source": [
    "ingredients.head()"
   ]
  },
  {
   "cell_type": "markdown",
   "metadata": {},
   "source": [
    "### A cookie for your thoughts: From the Technical to the Creative\n",
    "\n",
    "The code for the product is fully encapsulated in the `cookie_class.py` file. Have a look a the example code at the end of this file. The code for the algorithm was built from scratch as the standard libraries lacked the flexibility I wanted. Running end to end (`run_genetic_algorithm`) does the following:\n",
    "\n",
    "* Importing Data\n",
    "* Manipulating Imported Data (converting all measurements to grams)\n",
    "* Inferring Ideal Fitness Benchmarks\n",
    "\n",
    "For `num_generations` iterations:\n",
    "* Calculating Poulation Fitness\n",
    "* Select Parents\n",
    "* Crossover \n",
    "* Mutation\n",
    "* Integration\n",
    "* Extinction (see below)\n",
    "* Recalculating Population Fitness\n",
    "* Tracking Population Max & Total Fitness for Stopping Criteria\n",
    "* Terminating once Stopping Criteria Met\n",
    "\n",
    "Finally:\n",
    "* Plots Population Max & Total Fitness against Generations\n",
    "* Selects Final Recipe\n",
    "* Presents the Final Recipe (See the Cookbook for the Format)\n",
    "\n",
    "\n",
    "#### Fitness\n",
    "\n",
    "\n",
    "For CookieGeneration, the primary fitness determiner is a 'balance of purposes'. From the knowledgebase of original recipes, an 'optimal average' balance is inferred, against which each newly generated recipe is compared. The distance of a recipe from the ideal can be measured either through Manhattan or Euclidean distance (`fitness_method` variable when initializing CookieGenerator Class):\n",
    "\n",
    "Additionally to allow for differing environment conditions you can provide an `environment_condition` to the which adjust the ideal proportions of ingredients according to the preference specified:\n",
    "\n",
    "* Cookie Cutter - default\n",
    "* Sweet Tooth - sugar proportion adjusted up\n",
    "* Health nut - sugar proportion adjusted down, chunky proportion adjusted up \n",
    "* Toothless - chunky proportion adjusted down\n",
    "\n",
    "The cookbook displays an example recipes after running the above algorithm for 1000 generations with each environment condition above and Manhattan distance. \n",
    "\n",
    "**Note**: The recipe balance is derived from the proportions of the ingredients in grams relative to each other.\n",
    "\n",
    "\n",
    "#### Parent Selection\n",
    "\n",
    "We want to select parents that score high on fitness, but to prevent stagnation and uniformity, two parents are selected from the top-x (`parent_selection_size`, default 10) best scoring parents of the current population.\n",
    "\n",
    "#### Crossover & Mutation\n",
    "\n",
    "\n",
    "* A set of two parents creates one new offspring, which is stitched together from the start of one parent and the end of another. The crossover point is here determined as a random index from 1 to the length of the shortest recipes. \n",
    "\n",
    "* Mutation occurs with `mutation_chance` (default 20%) , where an ingredient is replaced by another random ingredient (though the quantity in grams remains the same). \n",
    "\n",
    "#### Extinction Events\n",
    "\n",
    "Imagine a physical recipe book. \n",
    "A few pages might be smudgeoned or torn out; perhaps a whole book lost, or a family member might unexpectedly pass and take a hot-take recipe to the grave.\n",
    "Cookie Generator has a small (`extinction_event_chance`, default 1% recipes across all generations) chance for an 'extinction event', where a randomly-chosen recipe disappears from the tangles of history. \n",
    "\n",
    "#### Stopping Criteria\n",
    "\n",
    "When is Cookie Generator ready to output a recipe? Running by a specific number of generations is fine, but it might be able to 'decide on its own'. If the fitness of the best-scoring recipes has not improved for a previos certain number of generations (`stopping_criteria_runs`), the Generator is satisfied. \n",
    "\n",
    "#### Outputting Recipes\n",
    "\n",
    "A vital element of the Generator's creativity is the translation of a technical product to a human-readable, and 'creative' recipe. Some variation between recipes is a necessity, where too-similar looking outputted recipes would quickly lose their creative shine. \n",
    "\n",
    "##### Name Generation\n",
    "\n",
    "Cookie Generator creates a unique name based on its ingredient-set (uses purpose of ingredient to choose a Flavour & Chunky to include in name)  and a list of whimsical descriptives derived from the original imported recipes. \n",
    "\n",
    "##### Shopping List\n",
    "\n",
    "The is the essence of the final recipe. The inherited ingredients & quantities (in grams).\n",
    "\n",
    "##### Instruction\n",
    "\n",
    "The purpose of each final ingredient is used to organise the instructions into sensible steps. For example those ingredients (e.g. `sparking sugar`) that have decorate purpose are included in the final step. \n",
    "\n",
    "##### Bake or No Bake\n",
    "\n",
    "I also allowed for both non and bake recipes by determining whether the recipe has eggs and altering the output instructions based on this. \n",
    " \n"
   ]
  },
  {
   "cell_type": "markdown",
   "metadata": {},
   "source": [
    "### Future development\n",
    "\n",
    "**Ingredient Subtypes**\n",
    "The recipe sheet has a column not just for ingredients, but one for specific subtypes; a lot of these recipes have 'unsalted' butter, 'kosher' salt or 'white' chocolate.\n",
    "In its current implementation, these subtypes are not used; I did not manage to finish (or more importantly, then integrate) the function that reads these subtypes and creates an extra batch of unique ingredients, which would easily double the amount of individual ingredients and so increase variability of the generated recipes. \n",
    "\n",
    "**Improved Fitness: Assocation**\n",
    "\n",
    "Some ingredients just work well with others. By counting, for each ingredient, the amount of times it is used in combination with each other ingredient, a large but straightforward dictionary of values can be used to see how well the ingredients of a recipe 'mesh together'. This principle is somewhat comparable to the 'purpose' approach that is currently used.\n",
    "\n",
    "**Improved Fitness: Order**\n",
    "\n",
    "The order in which ingredients are listed in the recipe are directly mapped to the order in which they are 'used' in the original recipe. With some clever inferring, some generalisations could be made for certain ingredients, and this could be checked against generated recipes. \n",
    "\n",
    "**Improved Fitness: Wet and Dry**\n",
    "\n",
    "One piece of metadata that was un-used is the division of 'wet' and 'dry' ingredients. Desirable roportions of this quality for a recipe's ingredients could be inferred from the knowledgebase, and compared to generated recipes. This could also be used in the recipe presentation.\n",
    "\n",
    "\n",
    "\n",
    "\n",
    "**Improved Outputting: Ingredient Operators** \n",
    "\n",
    "The very next to-do step in line before the deadline crush was to incorporate another column of currently unused meta-data: the Ingredient sheet's Operators. Some ingredients had specific 'actions' that are common to their use, eg. 'whip' for cream or 'sift' for flour.\n",
    "These operators were to be added with some random chance (but following some rules) in the outputted recipe steps, for significant additional variation. \n",
    "\n",
    "**Improved Outputting: Family Story** \n",
    "\n",
    "The bane -or charm?- of online recipes is the introductory story that no one wants to read. While its implications can be debated, a unique short story preceding a generated recipe would certainly add to its uniqueness and creative appearance.\n",
    "\n",
    "**Improved Outputting: Smarter Names** \n",
    "\n",
    "Perhaps some more detailed look at the ingredients and using synonyms for environment conditions I could create more imaginative names. \n",
    "\n",
    "**Improved Outputting: Reconvert Ingredients** \n",
    "\n",
    "The shopping list of ingredients for each recipe currentl only outputs in grams. This would be more pleasing if presented in the 'original', or most-commonly-used-when-importing, measure types. "
   ]
  },
  {
   "cell_type": "markdown",
   "metadata": {},
   "source": [
    "### Reflections on Creativity\n",
    "\n",
    "Cookie Generator is irrefutably a combinational creative system: its generated recipes are numerous and (potentially) near-infinite, highly dependent on the dataset from which its combinations are drawn.\n",
    "\n",
    "There is little conceptual space here to explore or transform; even considering above additional developments, the primary improvement would be our perception of its creativity, not its fundamental capabilities.\n",
    "\n",
    "But these recipes are unique, individual, and many of them probably 'workable' in the kitchen. Each of its creations is just that - the result of a technical creative process. \n",
    "\n",
    "By improving the recipe-outputting, its 'believability' factor might significantly improve, and by optimizing the dataset and fitness determining, the recipes might, on average, come out of the oven a little tastier. Properly developing these two axes might create a recipe-generator that is 'legit' in an aesthetic and operational sense - depending on the viewer's tastes.\n",
    "\n",
    "In assessing the creativty I considered the creativity allowed in the algorithm and the creativity 'mocked' in the recipe output:\n",
    "\n",
    "* Over serveral iterations of my algorithm I included more 'tweakable' elements to increase the inherent creativeness of the product. This is most directly seen with both the inclusion of an `environment condition` which allows for the creative inclusion of a 'genetic context' and the adaptation of the classic approach to include extinciton events, which introduces futher variablity. However, for an application with a purpose, this consideration seems less relevant; if we are going to take the effort to bake (and eat) cookies, the quality and clarity of the recipe we are using is entirely more significant than however that recipe was created. The standard of creativity here is the output - not the process.  \n",
    "\n",
    "* The recipe output simulates creativity with both its name generation & use of purpose to indicate steps taken.\n",
    "\n",
    "\n",
    "\n"
   ]
  },
  {
   "cell_type": "markdown",
   "metadata": {},
   "source": [
    "### Example Code"
   ]
  },
  {
   "cell_type": "code",
   "execution_count": null,
   "metadata": {},
   "outputs": [],
   "source": [
    "from cookie_class import CookieGenerator"
   ]
  },
  {
   "cell_type": "code",
   "execution_count": 11,
   "metadata": {},
   "outputs": [],
   "source": [
    "cookie = CookieGenerator(environment_condition = \"Sweet Tooth\")"
   ]
  },
  {
   "cell_type": "code",
   "execution_count": 12,
   "metadata": {},
   "outputs": [
    {
     "name": "stdout",
     "output_type": "stream",
     "text": [
      "Hello Cookie Monster 🍪 ... now running the genetic algorithm for 100 generations!\n",
      "Good Luck 👍\n"
     ]
    },
    {
     "data": {
      "image/png": "[encoded data removed]",
      "text/plain": [
       "<Figure size 432x288 with 1 Axes>"
      ]
     },
     "metadata": {},
     "output_type": "display_data"
    },
    {
     "data": {
      "image/png": "[encoded data removed]",
      "text/plain": [
       "<Figure size 432x288 with 1 Axes>"
      ]
     },
     "metadata": {},
     "output_type": "display_data"
    },
    {
     "data": {
      "text/markdown": [
       "# Golden Salt Almonds Cookies"
      ],
      "text/plain": [
       "<IPython.core.display.Markdown object>"
      ]
     },
     "metadata": {},
     "output_type": "display_data"
    },
    {
     "data": {
      "text/markdown": [
       "## A Sweet Tooth recipe"
      ],
      "text/plain": [
       "<IPython.core.display.Markdown object>"
      ]
     },
     "metadata": {},
     "output_type": "display_data"
    },
    {
     "data": {
      "image/jpeg": "[encoded data removed]",
      "text/plain": [
       "<IPython.core.display.Image object>"
      ]
     },
     "metadata": {},
     "output_type": "display_data"
    },
    {
     "data": {
      "text/markdown": [
       "This recipe has been generated by a genetic algorithm!"
      ],
      "text/plain": [
       "<IPython.core.display.Markdown object>"
      ]
     },
     "metadata": {},
     "output_type": "display_data"
    },
    {
     "data": {
      "text/markdown": [
       "## Shopping List  🛒"
      ],
      "text/plain": [
       "<IPython.core.display.Markdown object>"
      ]
     },
     "metadata": {},
     "output_type": "display_data"
    },
    {
     "data": {
      "text/markdown": [
       "\n",
       "|  Ingredient | Amount |\n",
       "|-------------- | -------------- | \n",
       "| Almonds | 160.0 grams | \n",
       "| Flour | 320.0 grams | \n",
       "| Salt | 3.0 grams | \n",
       "| Almond paste | 160.0 grams | \n",
       "| Butter | 220.0 grams | \n",
       "| Sugar | 160.0 grams | \n",
       "| Sugar | 80.0 grams | \n",
       "| Salt | 50.0 grams | \n",
       "| Egg | 50.0 grams | \n",
       "\n"
      ],
      "text/plain": [
       "<IPython.core.display.Markdown object>"
      ]
     },
     "metadata": {},
     "output_type": "display_data"
    },
    {
     "data": {
      "text/markdown": [
       "### Step 1  🥣"
      ],
      "text/plain": [
       "<IPython.core.display.Markdown object>"
      ]
     },
     "metadata": {},
     "output_type": "display_data"
    },
    {
     "data": {
      "text/markdown": [
       "Preheat the oven to 180 degrees and place the **Flour**, **Sugar**, **Almond paste** in a bowl & mix."
      ],
      "text/plain": [
       "<IPython.core.display.Markdown object>"
      ]
     },
     "metadata": {},
     "output_type": "display_data"
    },
    {
     "data": {
      "text/markdown": [
       "### Step 2  🥄"
      ],
      "text/plain": [
       "<IPython.core.display.Markdown object>"
      ]
     },
     "metadata": {},
     "output_type": "display_data"
    },
    {
     "data": {
      "text/markdown": [
       "Add in the **Butter**, **Egg** and mix until you have an elastic dough that can be shaped in cookies."
      ],
      "text/plain": [
       "<IPython.core.display.Markdown object>"
      ]
     },
     "metadata": {},
     "output_type": "display_data"
    },
    {
     "data": {
      "text/markdown": [
       "### Step 3  🌈"
      ],
      "text/plain": [
       "<IPython.core.display.Markdown object>"
      ]
     },
     "metadata": {},
     "output_type": "display_data"
    },
    {
     "data": {
      "text/markdown": [
       "Fold in **Salt**, **Almonds**."
      ],
      "text/plain": [
       "<IPython.core.display.Markdown object>"
      ]
     },
     "metadata": {},
     "output_type": "display_data"
    },
    {
     "data": {
      "text/markdown": [
       "### Step 4  ✨"
      ],
      "text/plain": [
       "<IPython.core.display.Markdown object>"
      ]
     },
     "metadata": {},
     "output_type": "display_data"
    },
    {
     "data": {
      "text/markdown": [
       "Using your hands, roll out the cookie dough and cut into shapes of your choosing."
      ],
      "text/plain": [
       "<IPython.core.display.Markdown object>"
      ]
     },
     "metadata": {},
     "output_type": "display_data"
    },
    {
     "data": {
      "text/markdown": [
       "### Step 5  🔥"
      ],
      "text/plain": [
       "<IPython.core.display.Markdown object>"
      ]
     },
     "metadata": {},
     "output_type": "display_data"
    },
    {
     "data": {
      "text/markdown": [
       "Cook the cookies in the oven for approximately 20 minutes."
      ],
      "text/plain": [
       "<IPython.core.display.Markdown object>"
      ]
     },
     "metadata": {},
     "output_type": "display_data"
    },
    {
     "data": {
      "text/markdown": [
       "### Step 6 😋"
      ],
      "text/plain": [
       "<IPython.core.display.Markdown object>"
      ]
     },
     "metadata": {},
     "output_type": "display_data"
    },
    {
     "data": {
      "text/markdown": [
       "Serve & enjoy!"
      ],
      "text/plain": [
       "<IPython.core.display.Markdown object>"
      ]
     },
     "metadata": {},
     "output_type": "display_data"
    }
   ],
   "source": [
    "cookie.run_genetic_algorithm(100) "
   ]
  },
  {
   "cell_type": "code",
   "execution_count": null,
   "metadata": {},
   "outputs": [],
   "source": []
  }
 ],
 "metadata": {
  "kernelspec": {
   "display_name": "Python 3",
   "language": "python",
   "name": "python3"
  },
  "language_info": {
   "codemirror_mode": {
    "name": "ipython",
    "version": 3
   },
   "file_extension": ".py",
   "mimetype": "text/x-python",
   "name": "python",
   "nbconvert_exporter": "python",
   "pygments_lexer": "ipython3",
   "version": "3.7.6"
  }
 },
 "nbformat": 4,
 "nbformat_minor": 4
}
